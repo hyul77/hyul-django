{
 "cells": [
  {
   "cell_type": "code",
   "execution_count": 1,
   "id": "0b6befb9",
   "metadata": {},
   "outputs": [],
   "source": [
    "from pybo.models import Question, Answer\n",
    "from django.utils import timezone\n"
   ]
  },
  {
   "cell_type": "code",
   "execution_count": 3,
   "id": "9108442f",
   "metadata": {},
   "outputs": [],
   "source": [
    "q = Question(subject = \"\", content=\"\", create_date=timezone.now() )\n",
    "q.save()"
   ]
  },
  {
   "cell_type": "code",
   "execution_count": 4,
   "id": "324783f7",
   "metadata": {},
   "outputs": [],
   "source": [
    "q = Question.objects.get(id = 74)\n",
    "a = Answer(question=q, content='배고파', create_date=timezone.now()) \n",
    "a.save()\n"
   ]
  },
  {
   "cell_type": "code",
   "execution_count": null,
   "id": "af9139ff",
   "metadata": {},
   "outputs": [],
   "source": []
  }
 ],
 "metadata": {
  "kernelspec": {
   "display_name": "Django Shell-Plus",
   "language": "python",
   "name": "django_extensions"
  },
  "language_info": {
   "codemirror_mode": {
    "name": "ipython",
    "version": 3
   },
   "file_extension": ".py",
   "mimetype": "text/x-python",
   "name": "python",
   "nbconvert_exporter": "python",
   "pygments_lexer": "ipython3",
   "version": "3.11.5"
  }
 },
 "nbformat": 4,
 "nbformat_minor": 5
}
