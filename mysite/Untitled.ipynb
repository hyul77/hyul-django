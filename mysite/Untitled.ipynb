{
 "cells": [
  {
   "cell_type": "code",
   "execution_count": 7,
   "id": "57416a07",
   "metadata": {},
   "outputs": [],
   "source": [
    "from pybo.models import Question\n",
    "from django.utils import timezone\n",
    "import asyncio"
   ]
  },
  {
   "cell_type": "code",
   "execution_count": 8,
   "id": "8e6ac59e",
   "metadata": {},
   "outputs": [],
   "source": [
    "async def save_question():\n",
    "    q = Question(subject=\"pybo가 무엇인가?\", content=\"pybo에 대해서 알고 싶음\", create_date=timezone.now())\n",
    "    await q.save()"
   ]
  },
  {
   "cell_type": "code",
   "execution_count": 10,
   "id": "2ef52bdd",
   "metadata": {},
   "outputs": [
    {
     "data": {
      "text/plain": [
       "<Task pending name='Task-8' coro=<save_question() running at C:\\Users\\USER\\AppData\\Local\\Temp\\ipykernel_17796\\823914180.py:1>>"
      ]
     },
     "execution_count": 10,
     "metadata": {},
     "output_type": "execute_result"
    }
   ],
   "source": [
    "asyncio.create_task(save_question())"
   ]
  },
  {
   "cell_type": "code",
   "execution_count": null,
   "id": "3b5f9436",
   "metadata": {},
   "outputs": [],
   "source": []
  }
 ],
 "metadata": {
  "kernelspec": {
   "display_name": "Django Shell-Plus",
   "language": "python",
   "name": "django_extensions"
  },
  "language_info": {
   "codemirror_mode": {
    "name": "ipython",
    "version": 3
   },
   "file_extension": ".py",
   "mimetype": "text/x-python",
   "name": "python",
   "nbconvert_exporter": "python",
   "pygments_lexer": "ipython3",
   "version": "3.11.5"
  }
 },
 "nbformat": 4,
 "nbformat_minor": 5
}
